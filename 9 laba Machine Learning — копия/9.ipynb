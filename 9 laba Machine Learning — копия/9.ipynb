{
 "cells": [
  {
   "cell_type": "code",
   "execution_count": 1,
   "id": "07bce1ce-b8f1-432a-a67e-d54edbd9e131",
   "metadata": {},
   "outputs": [
    {
     "name": "stdout",
     "output_type": "stream",
     "text": [
      "Text 1 words: ['python', 'найчастіше', 'вживане', 'прочитання', 'пайтон', 'запозичено', 'назву8', 'британського', 'шоу', 'монті', 'пайтон', 'інтерпретована', 'обєктноорієнтована', 'мова', 'програмування', 'високого', 'рівня', 'із', 'суворою', 'динамічною', 'типізацією9', 'розроблена', 'в', '1990', 'році', 'гвідо', 'ван', 'россумом', 'структури', 'даних', 'високого', 'рівня', 'разом', 'із', 'динамічною', 'семантикою', 'динамічним', 'звязуванням', 'роблять', 'її', 'привабливою', 'для', 'швидкої', 'розробки', 'програм', 'також', 'як', 'засіб', 'поєднування', 'наявних', 'компонентів']\n",
      "Text 2 words: ['python', 'підтримує', 'модулі', 'пакети', 'модулів', 'сприяє', 'модульності', 'повторному', 'використанню', 'коду', 'інтерпретатор', 'python', 'стандартні', 'бібліотеки', 'доступні', 'як', 'скомпільованій', 'так', 'вихідній', 'формі', 'всіх', 'основних', 'платформах', 'в', 'мові', 'програмування', 'python', 'підтримується', 'кілька', 'парадигм', 'програмування', 'зокрема', 'обєктноорієнтована', 'процедурна', 'аспектноорієнтована', 'функціональна']\n",
      "\n",
      "Word frequencies in Text 1: Counter({'пайтон': 2, 'високого': 2, 'рівня': 2, 'із': 2, 'динамічною': 2, 'python': 1, 'найчастіше': 1, 'вживане': 1, 'прочитання': 1, 'запозичено': 1, 'назву8': 1, 'британського': 1, 'шоу': 1, 'монті': 1, 'інтерпретована': 1, 'обєктноорієнтована': 1, 'мова': 1, 'програмування': 1, 'суворою': 1, 'типізацією9': 1, 'розроблена': 1, 'в': 1, '1990': 1, 'році': 1, 'гвідо': 1, 'ван': 1, 'россумом': 1, 'структури': 1, 'даних': 1, 'разом': 1, 'семантикою': 1, 'динамічним': 1, 'звязуванням': 1, 'роблять': 1, 'її': 1, 'привабливою': 1, 'для': 1, 'швидкої': 1, 'розробки': 1, 'програм': 1, 'також': 1, 'як': 1, 'засіб': 1, 'поєднування': 1, 'наявних': 1, 'компонентів': 1})\n",
      "Word frequencies in Text 2: Counter({'python': 3, 'програмування': 2, 'підтримує': 1, 'модулі': 1, 'пакети': 1, 'модулів': 1, 'сприяє': 1, 'модульності': 1, 'повторному': 1, 'використанню': 1, 'коду': 1, 'інтерпретатор': 1, 'стандартні': 1, 'бібліотеки': 1, 'доступні': 1, 'як': 1, 'скомпільованій': 1, 'так': 1, 'вихідній': 1, 'формі': 1, 'всіх': 1, 'основних': 1, 'платформах': 1, 'в': 1, 'мові': 1, 'підтримується': 1, 'кілька': 1, 'парадигм': 1, 'зокрема': 1, 'обєктноорієнтована': 1, 'процедурна': 1, 'аспектноорієнтована': 1, 'функціональна': 1})\n",
      "\n",
      "Common words: {'як', 'в', 'python', 'обєктноорієнтована', 'програмування'}\n",
      "Similarity index: 0.06756756756756757\n"
     ]
    }
   ],
   "source": [
    "import re\n",
    "from collections import Counter\n",
    "\n",
    "# Функція для очищення та токенізації тексту\n",
    "def preprocess_text(text):\n",
    "    # Видалення знаків пунктуації\n",
    "    text = re.sub(r'[^\\w\\s]', '', text)\n",
    "    # Перетворення тексту в нижній регістр\n",
    "    words = text.lower().split()\n",
    "    # Видалення стоп-слів (приклад з базовим списком стоп-слів)\n",
    "    stop_words = set([\"а\", \"і\", \"та\", \"у\", \"що\", \"з\", \"на\", \"за\"])\n",
    "    words = [word for word in words if word not in stop_words]\n",
    "    return words\n",
    "\n",
    "# Обробка наданих текстів\n",
    "text1 = \"Python (найчастіше вживане прочитання — «Па́йтон», запозичено назву[8] з британського шоу Монті Пайтон) — інтерпретована об'єктно-орієнтована мова програмування високого рівня із суворою динамічною типізацією[9]. Розроблена в 1990 році Гвідо ван Россумом. Структури даних високого рівня разом із динамічною семантикою та динамічним зв'язуванням роблять її привабливою для швидкої розробки програм, а також як засіб поєднування наявних компонентів.\"\n",
    "text2 = \"Python підтримує модулі та пакети модулів, що сприяє модульності та повторному використанню коду. Інтерпретатор Python та стандартні бібліотеки доступні як у скомпільованій, так і у вихідній формі на всіх основних платформах. В мові програмування Python підтримується кілька парадигм програмування, зокрема: об'єктно-орієнтована, процедурна, аспектно-орієнтована та функціональна.\"\n",
    "\n",
    "words1 = preprocess_text(text1)\n",
    "words2 = preprocess_text(text2)\n",
    "\n",
    "# Виведення оброблених слів\n",
    "print(\"Text 1 words:\", words1)\n",
    "print(\"Text 2 words:\", words2)\n",
    "\n",
    "# Створення мішків слів і порівняння частот слів\n",
    "word_counts1 = Counter(words1)\n",
    "word_counts2 = Counter(words2)\n",
    "\n",
    "print(\"\\nWord frequencies in Text 1:\", word_counts1)\n",
    "print(\"Word frequencies in Text 2:\", word_counts2)\n",
    "\n",
    "# Порівняння схожості між двома текстами\n",
    "common_words = set(word_counts1.keys()) & set(word_counts2.keys())\n",
    "print(\"\\nCommon words:\", common_words)\n",
    "similarity_index = len(common_words) / len(set(word_counts1.keys()) | set(word_counts2.keys()))\n",
    "print(\"Similarity index:\", similarity_index)\n"
   ]
  },
  {
   "cell_type": "code",
   "execution_count": 9,
   "id": "815a5b4e-2a90-4d32-a6d4-61af3b1a486a",
   "metadata": {},
   "outputs": [
    {
     "name": "stdout",
     "output_type": "stream",
     "text": [
      "     v1                                                 v2 Unnamed: 2  \\\n",
      "0   ham  Go until jurong point, crazy.. Available only ...        NaN   \n",
      "1   ham                      Ok lar... Joking wif u oni...        NaN   \n",
      "2  spam  Free entry in 2 a wkly comp to win FA Cup fina...        NaN   \n",
      "3   ham  U dun say so early hor... U c already then say...        NaN   \n",
      "4   ham  Nah I don't think he goes to usf, he lives aro...        NaN   \n",
      "\n",
      "  Unnamed: 3 Unnamed: 4  \n",
      "0        NaN        NaN  \n",
      "1        NaN        NaN  \n",
      "2        NaN        NaN  \n",
      "3        NaN        NaN  \n",
      "4        NaN        NaN  \n",
      "Index(['v1', 'v2', 'Unnamed: 2', 'Unnamed: 3', 'Unnamed: 4'], dtype='object')\n",
      "<class 'pandas.core.frame.DataFrame'>\n",
      "RangeIndex: 5572 entries, 0 to 5571\n",
      "Data columns (total 2 columns):\n",
      " #   Column   Non-Null Count  Dtype \n",
      "---  ------   --------------  ----- \n",
      " 0   Label    5572 non-null   object\n",
      " 1   Message  5572 non-null   object\n",
      "dtypes: object(2)\n",
      "memory usage: 87.2+ KB\n",
      "None\n"
     ]
    }
   ],
   "source": [
    "# Завантаження датасету spam\n",
    "import pandas as pd\n",
    "\n",
    "spam_data_path = 'spam.csv'\n",
    "spam_data = pd.read_csv(spam_data_path, encoding='latin-1')  # Специфікація кодування, оскільки часто зустрічаються проблеми з кодуванням\n",
    "\n",
    "# Показати перші кілька рядків та назви колонок\n",
    "print(spam_data.head())\n",
    "print(spam_data.columns)\n",
    "\n",
    "spam_data = spam_data.iloc[:, :2]\n",
    "spam_data.columns = ['Label', 'Message']  \n",
    "\n",
    "print(spam_data.info())"
   ]
  },
  {
   "cell_type": "code",
   "execution_count": 10,
   "id": "6a27de83-4887-4203-a86e-523dec1ab4db",
   "metadata": {},
   "outputs": [
    {
     "name": "stdout",
     "output_type": "stream",
     "text": [
      "Accuracy of the model: 0.9763101220387652\n",
      "\n",
      "Classification Report:\n",
      "               precision    recall  f1-score   support\n",
      "\n",
      "         ham       0.99      0.99      0.99      1202\n",
      "        spam       0.91      0.92      0.91       191\n",
      "\n",
      "    accuracy                           0.98      1393\n",
      "   macro avg       0.95      0.95      0.95      1393\n",
      "weighted avg       0.98      0.98      0.98      1393\n",
      "\n"
     ]
    }
   ],
   "source": [
    "from sklearn.model_selection import train_test_split\n",
    "from sklearn.feature_extraction.text import CountVectorizer\n",
    "from sklearn.naive_bayes import MultinomialNB\n",
    "from sklearn.metrics import classification_report, accuracy_score\n",
    "\n",
    "# Векторизація тексту\n",
    "vectorizer = CountVectorizer(stop_words='english')\n",
    "X = vectorizer.fit_transform(spam_data['Message'])\n",
    "y = spam_data['Label']\n",
    "\n",
    "# Розділення датасету на тренувальну та тестову вибірки\n",
    "X_train, X_test, y_train, y_test = train_test_split(X, y, test_size=0.25, random_state=42)\n",
    "\n",
    "# Навчання наївного Баєсового класифікатора\n",
    "model = MultinomialNB()\n",
    "model.fit(X_train, y_train)\n",
    "\n",
    "# Оцінка моделі\n",
    "predictions = model.predict(X_test)\n",
    "print(\"Accuracy of the model:\", accuracy_score(y_test, predictions))\n",
    "print(\"\\nClassification Report:\\n\", classification_report(y_test, predictions))\n"
   ]
  },
  {
   "cell_type": "code",
   "execution_count": null,
   "id": "7c6f5747-f833-4fd5-ac8d-a755586ae823",
   "metadata": {},
   "outputs": [],
   "source": []
  }
 ],
 "metadata": {
  "kernelspec": {
   "display_name": "Python 3 (ipykernel)",
   "language": "python",
   "name": "python3"
  },
  "language_info": {
   "codemirror_mode": {
    "name": "ipython",
    "version": 3
   },
   "file_extension": ".py",
   "mimetype": "text/x-python",
   "name": "python",
   "nbconvert_exporter": "python",
   "pygments_lexer": "ipython3",
   "version": "3.11.7"
  }
 },
 "nbformat": 4,
 "nbformat_minor": 5
}
